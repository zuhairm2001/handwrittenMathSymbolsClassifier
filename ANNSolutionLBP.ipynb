{
 "cells": [
  {
   "cell_type": "code",
   "execution_count": 2,
   "metadata": {},
   "outputs": [],
   "source": [
    "import tensorflow as tf\n",
    "import os\n",
    "import numpy as np\n",
    "import cv2\n",
    "from sklearn.model_selection import train_test_split\n",
    "\n",
    "import matplotlib.pyplot as plt\n",
    "from skimage import feature # This pacakge is used for LBP feature extraction\n",
    "from sklearn import metrics\n",
    "import seaborn as sns # This pacakge is used for better visualization of data (e.g confusion matrix)\n",
    "\n",
    "%load_ext tensorboard"
   ]
  },
  {
   "cell_type": "code",
   "execution_count": 3,
   "metadata": {},
   "outputs": [
    {
     "name": "stdout",
     "output_type": "stream",
     "text": [
      "2.13.1\n"
     ]
    }
   ],
   "source": [
    "from tensorflow import keras\n",
    "print(tf.__version__)\n"
   ]
  },
  {
   "cell_type": "code",
   "execution_count": 4,
   "metadata": {},
   "outputs": [],
   "source": [
    "import os\n",
    "from os.path import isfile, join\n",
    "import re\n",
    "\n",
    "\n",
    "mypath = 'dataset_42028assg1_13918471'\n",
    "categories = ['!', ')', '[', '+', '=', 'cos', 'div', 'sum', 'tan', 'times']\n",
    "dataset = []\n",
    "img_index_arr = []\n",
    "# files = [f for f in listdir(mypath) if isfile(join(mypath, f))]\n",
    "\n",
    "def load_data():\n",
    "    for category in categories:\n",
    "        path = os.path.join(mypath, category)\n",
    "        class_num = categories.index(category)\n",
    "        for img in os.listdir(path):\n",
    "            try:\n",
    "                img_array = cv2.imread(os.path.join(path, img),0)\n",
    "                new_array = cv2.resize(img_array, (28,28))\n",
    "                dataset.append(new_array)\n",
    "                img_index_arr.append(class_num)\n",
    "            except Exception as e:\n",
    "                print(e)\n"
   ]
  },
  {
   "cell_type": "code",
   "execution_count": 5,
   "metadata": {},
   "outputs": [],
   "source": [
    "load_data()"
   ]
  },
  {
   "cell_type": "code",
   "execution_count": 6,
   "metadata": {},
   "outputs": [
    {
     "name": "stdout",
     "output_type": "stream",
     "text": [
      "!\n",
      ")\n",
      "+\n",
      "sum\n"
     ]
    },
    {
     "data": {
      "image/png": "[encoded data removed]",
      "text/plain": [
       "<Figure size 640x480 with 1 Axes>"
      ]
     },
     "metadata": {},
     "output_type": "display_data"
    },
    {
     "data": {
      "image/png": "[encoded data removed]",
      "text/plain": [
       "<Figure size 640x480 with 1 Axes>"
      ]
     },
     "metadata": {},
     "output_type": "display_data"
    },
    {
     "data": {
      "image/png": "[encoded data removed]",
      "text/plain": [
       "<Figure size 640x480 with 1 Axes>"
      ]
     },
     "metadata": {},
     "output_type": "display_data"
    },
    {
     "data": {
      "image/png": "[encoded data removed]",
      "text/plain": [
       "<Figure size 640x480 with 1 Axes>"
      ]
     },
     "metadata": {},
     "output_type": "display_data"
    }
   ],
   "source": [
    "datasetArr = np.array(dataset)\n",
    "\n",
    "fig = plt.figure()\n",
    "ax1 = fig.add_subplot(2,2,1)\n",
    "ax1.axis('off')\n",
    "ax1.imshow(dataset[0])\n",
    "print(categories[img_index_arr[0]])\n",
    "\n",
    "fig = plt.figure()\n",
    "ax1 = fig.add_subplot(2,2,2)\n",
    "ax1.axis('off')\n",
    "ax1.imshow(dataset[500])\n",
    "print(categories[img_index_arr[500]])\n",
    "\n",
    "fig = plt.figure()\n",
    "ax1 = fig.add_subplot(2,2,3)\n",
    "ax1.axis('off')\n",
    "ax1.imshow(dataset[1500])\n",
    "print(categories[img_index_arr[1500]])\n",
    "\n",
    "fig = plt.figure()\n",
    "ax1 = fig.add_subplot(2,2,4)\n",
    "ax1.axis('off')\n",
    "ax1.imshow(dataset[3500])\n",
    "print(categories[img_index_arr[3500]])\n"
   ]
  },
  {
   "cell_type": "code",
   "execution_count": 7,
   "metadata": {},
   "outputs": [],
   "source": [
    "class LocalBinaryPatterns:\n",
    "\tdef __init__(self, numPoints, radius):\n",
    "\t\t# store the number of points and radius\n",
    "\t\tself.numPoints = numPoints\n",
    "\t\tself.radius = radius\n",
    "\n",
    "\tdef LBPfeatures(self, image, eps=1e-7):\n",
    "\t\t# compute the Local Binary Pattern representation\n",
    "\t\t# of the image, and then use the LBP representation\n",
    "\t\t# to build the histogram of patterns\n",
    "\t\tlbp = feature.local_binary_pattern(image, self.numPoints,\n",
    "\t\t\tself.radius, method=\"uniform\")\n",
    "    # Form the histogram\n",
    "\t\t(hist, _) = np.histogram(lbp.ravel(),\n",
    "\t\t\tbins=np.arange(0, self.numPoints + 3),\n",
    "\t\t\trange=(0, self.numPoints + 2))\n",
    "\n",
    "\t\t# normalize the histogram\n",
    "\t\thist = hist.astype(\"float\")\n",
    "\t\thist /= (hist.sum() + eps)\n",
    "\n",
    "\t\t# return the histogram of Local Binary Patterns\n",
    "\t\treturn hist"
   ]
  },
  {
   "cell_type": "code",
   "execution_count": 53,
   "metadata": {},
   "outputs": [],
   "source": [
    "X_train, X_test, Y_train, Y_test = train_test_split(datasetArr, img_index_arr) \n"
   ]
  },
  {
   "cell_type": "code",
   "execution_count": 21,
   "metadata": {},
   "outputs": [],
   "source": [
    "desc = LocalBinaryPatterns(24, 8)\n",
    "data_train = []\n",
    "labels_train = []\n",
    "\n",
    "# loop over the training images\n",
    "for img_index in range(len(X_train)):\n",
    "\t# load the image, convert it to grayscale, and extract LBP features\n",
    "\timage = (X_train[img_index])\n",
    "\thist = desc.LBPfeatures(image)\n",
    "\n",
    "\t# extract the label from the image path, then update the\n",
    "\t# label and data lists\n",
    "\tlabels_train.append(Y_train[img_index])\n",
    "\tdata_train.append(hist)"
   ]
  },
  {
   "cell_type": "code",
   "execution_count": 22,
   "metadata": {},
   "outputs": [
    {
     "name": "stdout",
     "output_type": "stream",
     "text": [
      "(3750, 28, 28)\n"
     ]
    }
   ],
   "source": [
    "print(np.shape(X_train))\n"
   ]
  },
  {
   "cell_type": "code",
   "execution_count": 23,
   "metadata": {},
   "outputs": [
    {
     "name": "stdout",
     "output_type": "stream",
     "text": [
      "[[1.         1.         1.         1.         1.         1.\n",
      "  1.         1.         1.         1.         1.         1.\n",
      "  1.         1.         1.         1.         1.         1.\n",
      "  1.         1.         1.         1.         1.         1.\n",
      "  1.         1.         1.         1.        ]\n",
      " [1.         1.         1.         1.         1.         1.\n",
      "  1.         1.         1.         1.         1.         1.\n",
      "  1.         1.         1.         1.         1.         1.\n",
      "  1.         1.         1.         1.         1.         1.\n",
      "  1.         1.         1.         1.        ]\n",
      " [1.         1.         1.         1.         1.         1.\n",
      "  1.         1.         1.         1.         1.         1.\n",
      "  1.         1.         1.         1.         1.         1.\n",
      "  1.         1.         1.         1.         1.         1.\n",
      "  1.         1.         1.         1.        ]\n",
      " [1.         1.         1.         1.         1.         1.\n",
      "  1.         1.         1.         1.         1.         1.\n",
      "  1.         1.         1.         1.         1.         1.\n",
      "  1.         1.         1.         1.         1.         1.\n",
      "  1.         1.         1.         1.        ]\n",
      " [1.         1.         1.         1.         1.         1.\n",
      "  1.         1.         1.         1.         1.         1.\n",
      "  1.         1.         1.         1.         1.         1.\n",
      "  1.         1.         1.         1.         1.         1.\n",
      "  1.         1.         1.         1.        ]\n",
      " [0.99607843 1.         1.         0.99607843 0.75294118 0.77254902\n",
      "  1.         0.99607843 1.         0.99607843 1.         1.\n",
      "  1.         1.         1.         1.         1.         1.\n",
      "  1.         1.         1.         1.         1.         1.\n",
      "  1.         1.         1.         1.        ]\n",
      " [0.99607843 0.99215686 0.99607843 0.99607843 0.26666667 0.96078431\n",
      "  1.         0.99607843 0.99215686 0.99215686 1.         1.\n",
      "  1.         1.         1.         1.         1.         1.\n",
      "  1.         1.         1.         1.         1.         1.\n",
      "  1.         1.         1.         1.        ]\n",
      " [1.         1.         0.99215686 1.         0.27058824 0.99607843\n",
      "  0.99607843 0.99607843 1.         0.99607843 1.         1.\n",
      "  1.         1.         1.         1.         1.         1.\n",
      "  1.         1.         1.         1.         1.         1.\n",
      "  1.         1.         1.         1.        ]\n",
      " [0.99607843 0.99215686 1.         0.87058824 0.7254902  0.99607843\n",
      "  0.99607843 0.98823529 0.99607843 1.         1.         1.\n",
      "  1.         1.         1.         1.         1.         1.\n",
      "  1.         1.         1.         1.         1.         1.\n",
      "  1.         1.         1.         1.        ]\n",
      " [0.99215686 0.99607843 0.99607843 0.8745098  0.72941176 0.99607843\n",
      "  0.99607843 1.         0.99607843 1.         1.         1.\n",
      "  1.         1.         1.         1.         1.         1.\n",
      "  1.         1.         1.         1.         1.         1.\n",
      "  1.         1.         1.         1.        ]\n",
      " [1.         0.99607843 0.99607843 0.8745098  0.73333333 0.99607843\n",
      "  0.99607843 0.99607843 0.99607843 0.99607843 0.99607843 0.99607843\n",
      "  0.99607843 0.99607843 0.99607843 0.99607843 1.         1.\n",
      "  0.99607843 0.99607843 1.         1.         1.         1.\n",
      "  1.         1.         1.         1.        ]\n",
      " [0.99607843 1.         1.         0.86666667 0.73333333 1.\n",
      "  1.         0.99607843 0.99607843 0.99215686 0.99607843 0.99607843\n",
      "  1.         0.99607843 0.99215686 0.99215686 1.         0.98823529\n",
      "  1.         0.99607843 1.         1.         1.         1.\n",
      "  1.         1.         1.         1.        ]\n",
      " [0.99607843 0.99215686 0.99607843 0.43137255 0.88627451 1.\n",
      "  1.         0.99215686 0.99607843 0.99607843 0.99607843 1.\n",
      "  0.99607843 0.99607843 0.99607843 0.99607843 1.         0.99607843\n",
      "  0.99215686 0.99607843 1.         1.         1.         1.\n",
      "  1.         1.         1.         1.        ]\n",
      " [0.99607843 0.99215686 0.99607843 0.13333333 1.         1.\n",
      "  0.99215686 1.         1.         0.84705882 0.99607843 1.\n",
      "  0.99215686 1.         1.         0.55294118 0.19607843 0.69411765\n",
      "  1.         0.99607843 1.         1.         1.         1.\n",
      "  1.         1.         1.         1.        ]\n",
      " [0.99607843 1.         1.         0.12941176 1.         0.99607843\n",
      "  0.24313725 0.19607843 0.19607843 0.6627451  0.99607843 1.\n",
      "  0.99607843 1.         0.35294118 0.88235294 0.99607843 0.99607843\n",
      "  0.99607843 0.99607843 1.         1.         1.         1.\n",
      "  1.         1.         1.         1.        ]\n",
      " [0.87058824 0.58823529 0.58823529 0.05490196 0.41176471 0.40784314\n",
      "  0.96470588 0.99607843 0.99607843 1.         0.99607843 1.\n",
      "  0.99607843 0.55294118 0.88235294 0.99607843 0.02352941 1.\n",
      "  1.         1.         0.99215686 0.94509804 0.65882353 0.99607843\n",
      "  1.         1.         0.99215686 1.        ]\n",
      " [0.31764706 0.98039216 0.99607843 0.1254902  0.99607843 0.99607843\n",
      "  1.         1.         1.         0.99607843 0.99607843 1.\n",
      "  0.40784314 1.         1.         0.99215686 0.01960784 0.99607843\n",
      "  1.         0.99607843 0.98823529 0.00392157 0.65098039 0.98431373\n",
      "  0.99607843 1.         1.         0.98431373]\n",
      " [0.99607843 0.99215686 1.         0.1254902  1.         0.99607843\n",
      "  0.99607843 0.99607843 0.99607843 0.99607843 0.99215686 0.38431373\n",
      "  0.84705882 0.99607843 0.99607843 1.         0.01960784 1.\n",
      "  0.99607843 1.         1.         0.01960784 0.54117647 0.26666667\n",
      "  0.99607843 0.99215686 1.         0.99607843]\n",
      " [1.         0.99215686 0.99607843 0.29803922 0.92941176 0.99607843\n",
      "  0.99215686 0.99607843 0.99607843 0.23137255 0.99607843 0.03137255\n",
      "  1.         0.99215686 0.99215686 0.58823529 0.01960784 0.99607843\n",
      "  0.99607843 1.         0.54901961 0.05490196 1.         0.26666667\n",
      "  1.         1.         0.99215686 1.        ]\n",
      " [0.99607843 1.         0.99607843 0.8745098  0.72941176 1.\n",
      "  0.98823529 1.         0.8627451  0.68235294 1.         0.01568627\n",
      "  1.         1.         1.         0.43921569 0.82745098 0.68627451\n",
      "  0.99607843 0.29411765 0.09019608 0.05490196 0.99607843 0.65490196\n",
      "  0.89411765 0.99607843 0.92156863 0.16078431]\n",
      " [0.99607843 1.         0.99607843 0.92941176 0.5254902  0.55294118\n",
      "  0.55686275 0.55294118 0.53333333 1.         0.99607843 0.45882353\n",
      "  0.3254902  1.         0.63921569 0.67058824 1.         0.65098039\n",
      "  0.44313725 0.44313725 0.55686275 0.99215686 0.99215686 0.84705882\n",
      "  0.44705882 0.44705882 0.49411765 0.99607843]\n",
      " [1.         0.99215686 0.99607843 1.         0.99607843 1.\n",
      "  1.         0.99215686 0.99215686 0.99215686 0.99607843 1.\n",
      "  0.99607843 0.05490196 0.81568627 0.99607843 1.         0.99607843\n",
      "  1.         1.         1.         1.         1.         0.99215686\n",
      "  0.99607843 0.99607843 1.         0.99607843]\n",
      " [0.99607843 1.         0.99215686 0.99607843 1.         0.99607843\n",
      "  0.99215686 0.99607843 0.99607843 0.99607843 0.99607843 1.\n",
      "  0.99607843 0.99607843 1.         1.         0.99607843 0.99607843\n",
      "  0.99607843 0.99215686 0.99607843 0.99607843 1.         0.99607843\n",
      "  0.99607843 0.99607843 0.99215686 0.99607843]\n",
      " [0.99607843 0.99607843 1.         0.99607843 0.99607843 0.99607843\n",
      "  1.         0.99607843 0.99607843 0.99607843 0.99607843 1.\n",
      "  0.99607843 0.99215686 1.         0.99215686 1.         1.\n",
      "  0.99607843 0.99607843 0.99607843 0.99215686 0.99607843 0.99607843\n",
      "  1.         0.99607843 0.99607843 0.99607843]\n",
      " [1.         1.         0.99607843 1.         1.         1.\n",
      "  1.         0.99607843 1.         0.99607843 0.99607843 0.99607843\n",
      "  0.99607843 0.99607843 0.99607843 0.99607843 1.         0.99607843\n",
      "  1.         1.         1.         1.         0.99607843 0.99607843\n",
      "  1.         1.         0.99607843 0.99607843]\n",
      " [1.         1.         1.         1.         1.         1.\n",
      "  1.         1.         1.         1.         1.         1.\n",
      "  1.         1.         1.         1.         1.         1.\n",
      "  1.         1.         1.         1.         1.         1.\n",
      "  1.         1.         1.         1.        ]\n",
      " [1.         1.         1.         1.         1.         1.\n",
      "  1.         1.         1.         1.         1.         1.\n",
      "  1.         1.         1.         1.         1.         1.\n",
      "  1.         1.         1.         1.         1.         1.\n",
      "  1.         1.         1.         1.        ]\n",
      " [1.         1.         1.         1.         1.         1.\n",
      "  1.         1.         1.         1.         1.         1.\n",
      "  1.         1.         1.         1.         1.         1.\n",
      "  1.         1.         1.         1.         1.         1.\n",
      "  1.         1.         1.         1.        ]]\n"
     ]
    }
   ],
   "source": [
    "X_val = np.array(X_train[:500] /255.0)\n",
    "Y_val = np.array(Y_train[:500]) \n",
    "\n",
    "X_train = np.array(X_train [500:] /255.0)\n",
    "Y_train = np.array(Y_train [500:])\n",
    "\n",
    "X_test = np.array(X_test /255.0)\n",
    "Y_test = np.array(Y_test)\n",
    "\n",
    "print(X_train[4])\n"
   ]
  },
  {
   "cell_type": "code",
   "execution_count": 24,
   "metadata": {},
   "outputs": [
    {
     "name": "stdout",
     "output_type": "stream",
     "text": [
      "(3250, 28, 28)\n",
      "(500, 28, 28)\n",
      "(1250, 28, 28)\n"
     ]
    }
   ],
   "source": [
    "# plt.imshow(data_train[0])\n",
    "\n",
    "print(np.shape(X_train))\n",
    "print(np.shape(X_val))\n",
    "print(np.shape(X_test))"
   ]
  },
  {
   "cell_type": "code",
   "execution_count": 38,
   "metadata": {},
   "outputs": [],
   "source": [
    "model = tf.keras.models.Sequential([tf.keras.layers.Flatten(input_shape=[28,28]),\n",
    "                                    tf.keras.layers.Dense(128, activation=tf.nn.relu),\n",
    "                                    tf.keras.layers.Dense(10, activation=tf.nn.softmax)])"
   ]
  },
  {
   "cell_type": "code",
   "execution_count": 39,
   "metadata": {},
   "outputs": [
    {
     "name": "stdout",
     "output_type": "stream",
     "text": [
      "Epoch 1/13\n"
     ]
    },
    {
     "name": "stdout",
     "output_type": "stream",
     "text": [
      "102/102 [==============================] - 1s 5ms/step - loss: 2.2437 - accuracy: 0.1837 - val_loss: 2.0214 - val_accuracy: 0.2880\n",
      "Epoch 2/13\n",
      "102/102 [==============================] - 0s 3ms/step - loss: 1.8678 - accuracy: 0.3923 - val_loss: 1.6031 - val_accuracy: 0.6340\n",
      "Epoch 3/13\n",
      "102/102 [==============================] - 0s 3ms/step - loss: 1.4957 - accuracy: 0.6025 - val_loss: 1.3503 - val_accuracy: 0.6400\n",
      "Epoch 4/13\n",
      "102/102 [==============================] - 0s 3ms/step - loss: 1.2645 - accuracy: 0.6643 - val_loss: 1.1031 - val_accuracy: 0.7200\n",
      "Epoch 5/13\n",
      "102/102 [==============================] - 0s 3ms/step - loss: 1.0417 - accuracy: 0.7480 - val_loss: 1.0295 - val_accuracy: 0.6900\n",
      "Epoch 6/13\n",
      "102/102 [==============================] - 0s 2ms/step - loss: 0.9083 - accuracy: 0.7791 - val_loss: 0.9318 - val_accuracy: 0.7200\n",
      "Epoch 7/13\n",
      "102/102 [==============================] - 0s 2ms/step - loss: 0.8398 - accuracy: 0.7729 - val_loss: 0.8318 - val_accuracy: 0.7920\n",
      "Epoch 8/13\n",
      "102/102 [==============================] - 0s 3ms/step - loss: 0.7385 - accuracy: 0.8163 - val_loss: 0.7153 - val_accuracy: 0.8160\n",
      "Epoch 9/13\n",
      "102/102 [==============================] - 0s 3ms/step - loss: 0.6540 - accuracy: 0.8378 - val_loss: 0.6259 - val_accuracy: 0.8420\n",
      "Epoch 10/13\n",
      "102/102 [==============================] - 0s 3ms/step - loss: 0.6282 - accuracy: 0.8360 - val_loss: 0.5931 - val_accuracy: 0.8400\n",
      "Epoch 11/13\n",
      "102/102 [==============================] - 0s 3ms/step - loss: 0.5738 - accuracy: 0.8548 - val_loss: 0.6188 - val_accuracy: 0.8240\n",
      "Epoch 12/13\n",
      "102/102 [==============================] - 0s 3ms/step - loss: 0.5691 - accuracy: 0.8458 - val_loss: 0.5224 - val_accuracy: 0.8400\n",
      "Epoch 13/13\n",
      "102/102 [==============================] - 0s 3ms/step - loss: 0.4983 - accuracy: 0.8745 - val_loss: 0.5629 - val_accuracy: 0.8240\n"
     ]
    }
   ],
   "source": [
    "model.compile(optimizer = tf.optimizers.Adam(),\n",
    "              loss = 'sparse_categorical_crossentropy',\n",
    "              metrics=['accuracy'])\n",
    "\n",
    "H=model.fit(X_train, Y_train, epochs=13,validation_data=(X_val, Y_val))"
   ]
  },
  {
   "cell_type": "code",
   "execution_count": 40,
   "metadata": {},
   "outputs": [
    {
     "name": "stdout",
     "output_type": "stream",
     "text": [
      "Model: \"sequential_4\"\n",
      "_________________________________________________________________\n",
      " Layer (type)                Output Shape              Param #   \n",
      "=================================================================\n",
      " flatten_4 (Flatten)         (None, 784)               0         \n",
      "                                                                 \n",
      " dense_8 (Dense)             (None, 128)               100480    \n",
      "                                                                 \n",
      " dense_9 (Dense)             (None, 10)                1290      \n",
      "                                                                 \n",
      "=================================================================\n",
      "Total params: 101770 (397.54 KB)\n",
      "Trainable params: 101770 (397.54 KB)\n",
      "Non-trainable params: 0 (0.00 Byte)\n",
      "_________________________________________________________________\n"
     ]
    }
   ],
   "source": [
    "model.summary()"
   ]
  },
  {
   "cell_type": "code",
   "execution_count": 41,
   "metadata": {},
   "outputs": [
    {
     "data": {
      "image/png": "[encoded data removed]",
      "text/plain": [
       "<Figure size 800x500 with 1 Axes>"
      ]
     },
     "metadata": {},
     "output_type": "display_data"
    },
    {
     "data": {
      "image/png": "[encoded data removed]",
      "text/plain": [
       "<Figure size 640x480 with 1 Axes>"
      ]
     },
     "metadata": {},
     "output_type": "display_data"
    }
   ],
   "source": [
    "import pandas as pd\n",
    "import matplotlib.pyplot as plt\n",
    "pd.DataFrame(H.history).plot(figsize=(8, 5))\n",
    "plt.grid(True)\n",
    "plt.gca().set_ylim(0, 1) # set the vertical range to [0-1]\n",
    "plt.show()\n",
    "\n",
    "plt.plot(H.history['loss'])\n",
    "plt.ylabel('cost')\n",
    "plt.xlabel('Epochs')\n",
    "plt.title(\"Cost/Loss Curve\")\n",
    "plt.show()"
   ]
  },
  {
   "cell_type": "code",
   "execution_count": 42,
   "metadata": {},
   "outputs": [
    {
     "name": "stdout",
     "output_type": "stream",
     "text": [
      "40/40 [==============================] - 0s 1ms/step - loss: 0.5723 - accuracy: 0.8408\n"
     ]
    },
    {
     "data": {
      "text/plain": [
       "[0.5723034739494324, 0.8407999873161316]"
      ]
     },
     "execution_count": 42,
     "metadata": {},
     "output_type": "execute_result"
    }
   ],
   "source": [
    "model.evaluate(X_test, Y_test)"
   ]
  },
  {
   "cell_type": "code",
   "execution_count": 54,
   "metadata": {},
   "outputs": [
    {
     "name": "stdout",
     "output_type": "stream",
     "text": [
      "+\n",
      "=\n",
      "sum\n",
      "div\n"
     ]
    },
    {
     "data": {
      "image/png": "[encoded data removed]",
      "text/plain": [
       "<Figure size 640x480 with 4 Axes>"
      ]
     },
     "metadata": {},
     "output_type": "display_data"
    }
   ],
   "source": [
    "## Display the classification results\n",
    "#Plot the image and the predicted labels\n",
    "fig = plt.figure()\n",
    "ax1 = fig.add_subplot(2,2,1)\n",
    "ax1.imshow(X_train[1])\n",
    "print(categories[Y_train[1]])\n",
    "ax2 = fig.add_subplot(2,2,2)\n",
    "ax2.imshow(X_train[2])\n",
    "print(categories[Y_train[2]])\n",
    "ax3 = fig.add_subplot(2,2,3)\n",
    "ax3.imshow(X_train[3])\n",
    "print(categories[Y_train[3]])\n",
    "ax4 = fig.add_subplot(2,2,4)\n",
    "ax4.imshow(X_train[4])\n",
    "print(categories[Y_train[4]])"
   ]
  }
 ],
 "metadata": {
  "kernelspec": {
   "display_name": "Python 3",
   "language": "python",
   "name": "python3"
  },
  "language_info": {
   "codemirror_mode": {
    "name": "ipython",
    "version": 3
   },
   "file_extension": ".py",
   "mimetype": "text/x-python",
   "name": "python",
   "nbconvert_exporter": "python",
   "pygments_lexer": "ipython3",
   "version": "3.11.3"
  }
 },
 "nbformat": 4,
 "nbformat_minor": 2
}
