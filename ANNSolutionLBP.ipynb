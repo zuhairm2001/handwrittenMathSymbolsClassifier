{
 "cells": [
  {
   "cell_type": "code",
   "execution_count": 1,
   "metadata": {},
   "outputs": [],
   "source": [
    "import tensorflow as tf\n",
    "import os\n",
    "import numpy as np\n",
    "import cv2\n",
    "from sklearn.model_selection import train_test_split\n",
    "\n",
    "import matplotlib.pyplot as plt\n",
    "from skimage import feature # This pacakge is used for LBP feature extraction\n",
    "from sklearn import metrics\n",
    "import seaborn as sns # This pacakge is used for better visualization of data (e.g confusion matrix)\n",
    "\n",
    "%load_ext tensorboard"
   ]
  },
  {
   "cell_type": "code",
   "execution_count": 2,
   "metadata": {},
   "outputs": [
    {
     "name": "stdout",
     "output_type": "stream",
     "text": [
      "2.13.1\n"
     ]
    }
   ],
   "source": [
    "from tensorflow import keras\n",
    "print(tf.__version__)\n"
   ]
  },
  {
   "cell_type": "code",
   "execution_count": 3,
   "metadata": {},
   "outputs": [],
   "source": [
    "import os\n",
    "from os.path import isfile, join\n",
    "import re\n",
    "\n",
    "\n",
    "mypath = 'dataset_42028assg1_13918471'\n",
    "categories = ['!', ')', '[', '+', '=', 'cos', 'div', 'sum', 'tan', 'times']\n",
    "dataset = []\n",
    "img_index_arr = []\n",
    "# files = [f for f in listdir(mypath) if isfile(join(mypath, f))]\n",
    "\n",
    "def load_data():\n",
    "    for category in categories:\n",
    "        path = os.path.join(mypath, category)\n",
    "        class_num = categories.index(category)\n",
    "        for img in os.listdir(path):\n",
    "            try:\n",
    "                img_array = cv2.imread(os.path.join(path, img),0)\n",
    "                new_array = cv2.resize(img_array, (28,28))\n",
    "                dataset.append(new_array)\n",
    "                img_index_arr.append(class_num)\n",
    "            except Exception as e:\n",
    "                print(e)\n"
   ]
  },
  {
   "cell_type": "code",
   "execution_count": 4,
   "metadata": {},
   "outputs": [],
   "source": [
    "load_data()"
   ]
  },
  {
   "cell_type": "code",
   "execution_count": 5,
   "metadata": {},
   "outputs": [
    {
     "name": "stdout",
     "output_type": "stream",
     "text": [
      "!\n",
      ")\n",
      "+\n",
      "sum\n"
     ]
    },
    {
     "data": {
      "image/png": "[encoded data removed]",
      "text/plain": [
       "<Figure size 640x480 with 1 Axes>"
      ]
     },
     "metadata": {},
     "output_type": "display_data"
    },
    {
     "data": {
      "image/png": "[encoded data removed]",
      "text/plain": [
       "<Figure size 640x480 with 1 Axes>"
      ]
     },
     "metadata": {},
     "output_type": "display_data"
    },
    {
     "data": {
      "image/png": "[encoded data removed]",
      "text/plain": [
       "<Figure size 640x480 with 1 Axes>"
      ]
     },
     "metadata": {},
     "output_type": "display_data"
    },
    {
     "data": {
      "image/png": "[encoded data removed]",
      "text/plain": [
       "<Figure size 640x480 with 1 Axes>"
      ]
     },
     "metadata": {},
     "output_type": "display_data"
    }
   ],
   "source": [
    "datasetArr = np.array(dataset)\n",
    "\n",
    "fig = plt.figure()\n",
    "ax1 = fig.add_subplot(2,2,1)\n",
    "ax1.axis('off')\n",
    "ax1.imshow(dataset[0])\n",
    "print(categories[img_index_arr[0]])\n",
    "\n",
    "fig = plt.figure()\n",
    "ax1 = fig.add_subplot(2,2,2)\n",
    "ax1.axis('off')\n",
    "ax1.imshow(dataset[500])\n",
    "print(categories[img_index_arr[500]])\n",
    "\n",
    "fig = plt.figure()\n",
    "ax1 = fig.add_subplot(2,2,3)\n",
    "ax1.axis('off')\n",
    "ax1.imshow(dataset[1500])\n",
    "print(categories[img_index_arr[1500]])\n",
    "\n",
    "fig = plt.figure()\n",
    "ax1 = fig.add_subplot(2,2,4)\n",
    "ax1.axis('off')\n",
    "ax1.imshow(dataset[3500])\n",
    "print(categories[img_index_arr[3500]])\n"
   ]
  },
  {
   "cell_type": "code",
   "execution_count": 23,
   "metadata": {},
   "outputs": [],
   "source": [
    "class LocalBinaryPatterns:\n",
    "\tdef __init__(self, numPoints, radius):\n",
    "\t\t# store the number of points and radius\n",
    "\t\tself.numPoints = numPoints\n",
    "\t\tself.radius = radius\n",
    "\n",
    "\tdef LBPfeatures(self, image, eps=1e-7):\n",
    "\t\t# compute the Local Binary Pattern representation\n",
    "\t\t# of the image, and then use the LBP representation\n",
    "\t\t# to build the histogram of patterns\n",
    "\t\tlbp = feature.local_binary_pattern(image, self.numPoints,\n",
    "\t\t\tself.radius, method=\"uniform\")\n",
    "    # Form the histogram\n",
    "\t\t(hist, _) = np.histogram(lbp.ravel(),\n",
    "\t\t\tbins=np.arange(0, self.numPoints + 3),\n",
    "\t\t\trange=(0, self.numPoints + 2))\n",
    "\n",
    "\t\t# normalize the histogram\n",
    "\t\thist = hist.astype(\"float\")\n",
    "\t\thist /= (hist.sum() + eps)\n",
    "\n",
    "\t\t# return the histogram of Local Binary Patterns\n",
    "\t\treturn hist"
   ]
  },
  {
   "cell_type": "code",
   "execution_count": 24,
   "metadata": {},
   "outputs": [],
   "source": [
    "X_train, X_test, Y_train, Y_test = train_test_split(datasetArr, img_index_arr) \n"
   ]
  },
  {
   "cell_type": "code",
   "execution_count": 25,
   "metadata": {},
   "outputs": [],
   "source": [
    "desc = LocalBinaryPatterns(24, 8)\n",
    "data_train = []\n",
    "labels_train = []\n",
    "\n",
    "# loop over the training images\n",
    "for img_index in range(len(X_train)):\n",
    "\t# load the image, convert it to grayscale, and extract LBP features\n",
    "\timage = (X_train[img_index])\n",
    "\thist = desc.LBPfeatures(image)\n",
    "\n",
    "\t# extract the label from the image path, then update the\n",
    "\t# label and data lists\n",
    "\tlabels_train.append(Y_train[img_index])\n",
    "\tdata_train.append(hist)"
   ]
  },
  {
   "cell_type": "code",
   "execution_count": 26,
   "metadata": {},
   "outputs": [
    {
     "name": "stdout",
     "output_type": "stream",
     "text": [
      "(3750, 28, 28)\n"
     ]
    }
   ],
   "source": [
    "print(np.shape(X_train))\n"
   ]
  },
  {
   "cell_type": "code",
   "execution_count": 27,
   "metadata": {},
   "outputs": [
    {
     "name": "stdout",
     "output_type": "stream",
     "text": [
      "[[1.         1.         1.         1.         1.         1.\n",
      "  1.         0.99607843 1.         0.99607843 1.         1.\n",
      "  1.         1.         1.         1.         1.         1.\n",
      "  1.         1.         1.         1.         1.         1.\n",
      "  1.         1.         1.         1.        ]\n",
      " [1.         1.         1.         1.         1.         0.99607843\n",
      "  1.         0.99607843 1.         1.         1.         1.\n",
      "  1.         1.         1.         1.         1.         1.\n",
      "  1.         1.         1.         1.         1.         1.\n",
      "  1.         1.         1.         1.        ]\n",
      " [1.         1.         1.         1.         1.         0.99607843\n",
      "  0.99215686 1.         0.99607843 0.99215686 1.         1.\n",
      "  1.         1.         1.         1.         1.         1.\n",
      "  1.         1.         1.         1.         1.         1.\n",
      "  1.         1.         1.         1.        ]\n",
      " [1.         1.         1.         1.         1.         0.99607843\n",
      "  1.         0.94117647 1.         0.99607843 1.         1.\n",
      "  1.         1.         1.         1.         1.         1.\n",
      "  1.         1.         1.         1.         1.         1.\n",
      "  1.         1.         1.         1.        ]\n",
      " [1.         1.         1.         1.         1.         0.99607843\n",
      "  0.99607843 0.55686275 1.         1.         1.         1.\n",
      "  1.         1.         1.         1.         1.         1.\n",
      "  1.         1.         1.         1.         1.         1.\n",
      "  1.         1.         1.         1.        ]\n",
      " [1.         1.         1.         1.         1.         1.\n",
      "  0.99607843 0.55294118 0.99607843 0.99607843 1.         1.\n",
      "  1.         1.         1.         1.         1.         1.\n",
      "  1.         1.         1.         1.         1.         1.\n",
      "  1.         1.         1.         1.        ]\n",
      " [1.         1.         1.         1.         1.         0.99607843\n",
      "  1.         0.55294118 1.         0.99607843 1.         1.\n",
      "  1.         1.         1.         1.         1.         1.\n",
      "  1.         1.         1.         1.         1.         1.\n",
      "  1.         1.         1.         1.        ]\n",
      " [1.         1.         1.         1.         1.         0.99607843\n",
      "  0.99215686 0.54901961 0.99607843 1.         1.         1.\n",
      "  1.         1.         1.         1.         1.         1.\n",
      "  1.         1.         1.         1.         1.         1.\n",
      "  1.         1.         1.         1.        ]\n",
      " [1.         1.         1.         1.         1.         0.99607843\n",
      "  1.         0.55294118 1.         0.99607843 1.         1.\n",
      "  1.         1.         1.         1.         1.         1.\n",
      "  1.         1.         1.         1.         1.         1.\n",
      "  1.         1.         1.         1.        ]\n",
      " [1.         1.         1.         1.         1.         1.\n",
      "  0.27058824 0.89411765 1.         0.99607843 1.         1.\n",
      "  1.         1.         1.         1.         1.         1.\n",
      "  1.         1.         1.         1.         1.         1.\n",
      "  1.         1.         1.         1.        ]\n",
      " [0.99607843 1.         0.99607843 1.         0.99607843 0.99607843\n",
      "  0.05490196 0.79215686 0.61960784 0.43137255 0.37647059 0.37254902\n",
      "  0.74117647 0.99607843 0.99607843 0.99607843 1.         0.99607843\n",
      "  0.99607843 0.99607843 0.99607843 0.99607843 0.99607843 0.99607843\n",
      "  1.         0.62352941 0.99215686 0.99607843]\n",
      " [0.99215686 0.99607843 1.         0.87843137 0.02352941 0.02352941\n",
      "  0.         0.54901961 0.98039216 0.99215686 1.         1.\n",
      "  0.99607843 0.98823529 0.99607843 0.99215686 0.99607843 1.\n",
      "  0.99607843 0.99215686 1.         0.99607843 0.99607843 0.99607843\n",
      "  0.14509804 0.98039216 0.10588235 1.        ]\n",
      " [0.18039216 0.58823529 0.58823529 0.63921569 0.99607843 0.99607843\n",
      "  0.05490196 1.         0.99215686 0.99607843 0.99607843 1.\n",
      "  0.99215686 0.99607843 1.         0.99607843 0.99607843 0.99607843\n",
      "  1.         0.99607843 1.         0.99215686 0.99607843 0.83921569\n",
      "  0.56862745 1.         0.09019608 0.99607843]\n",
      " [1.         0.99607843 1.         0.99607843 0.99607843 0.92941176\n",
      "  0.23529412 0.99607843 0.99607843 1.         0.99607843 1.\n",
      "  0.99607843 0.99607843 0.83921569 1.         1.         0.99607843\n",
      "  0.99607843 0.99607843 0.55294118 0.99607843 1.         0.26666667\n",
      "  1.         1.         0.09019608 1.        ]\n",
      " [0.99607843 1.         0.99607843 0.99607843 0.99607843 0.6627451\n",
      "  0.94509804 0.99607843 0.99607843 0.99607843 0.99607843 0.99215686\n",
      "  0.99607843 0.2        0.03921569 0.5254902  1.         0.99607843\n",
      "  1.         0.99607843 0.55294118 1.         0.46666667 0.85490196\n",
      "  0.99607843 1.         0.74901961 0.75294118]\n",
      " [1.         1.         1.         1.         1.         0.6627451\n",
      "  0.94509804 1.         0.99607843 0.99607843 0.99607843 0.98823529\n",
      "  0.47843137 0.99607843 1.         0.24313725 1.         0.99607843\n",
      "  0.99607843 0.99215686 0.55294118 1.         0.3372549  0.99607843\n",
      "  1.         1.         0.90980392 0.69411765]\n",
      " [1.         1.         1.         1.         1.         0.65882353\n",
      "  0.94117647 0.99607843 1.         1.         0.99607843 0.97254902\n",
      "  0.59607843 1.         1.         0.00784314 1.         0.99215686\n",
      "  0.99607843 0.99607843 0.55294118 0.94509804 0.65098039 1.\n",
      "  0.99607843 1.         0.90980392 0.69411765]\n",
      " [1.         1.         1.         1.         1.         0.45882353\n",
      "  0.98039216 0.99607843 0.99607843 1.         0.76078431 0.61176471\n",
      "  1.         1.         0.99607843 0.25490196 0.38431373 0.99215686\n",
      "  1.         1.         0.44313725 0.94509804 0.65882353 0.99607843\n",
      "  1.         1.         0.90980392 0.69411765]\n",
      " [1.         1.         1.         1.         1.         0.3372549\n",
      "  1.         1.         0.99607843 1.         0.62352941 0.98039216\n",
      "  0.99607843 0.94901961 0.3372549  0.99607843 0.98039216 0.62352941\n",
      "  0.99607843 0.99607843 0.44705882 0.94117647 0.65882353 0.99607843\n",
      "  0.99607843 1.         0.90980392 0.69411765]\n",
      " [1.         1.         1.         1.         1.         0.3372549\n",
      "  1.         0.99607843 0.99215686 1.         0.62352941 0.98039216\n",
      "  0.99607843 0.29411765 0.96862745 0.99607843 0.98823529 0.41568627\n",
      "  0.99607843 1.         0.44705882 0.19607843 0.94117647 0.99607843\n",
      "  1.         1.         0.90980392 0.69803922]\n",
      " [1.         1.         1.         1.         1.         0.3372549\n",
      "  0.99607843 0.99607843 0.99607843 0.99607843 0.79215686 0.44705882\n",
      "  0.44705882 0.99607843 0.99607843 0.99607843 0.99607843 0.65490196\n",
      "  0.12941176 0.9254902  0.25098039 0.4745098  0.99607843 0.99607843\n",
      "  1.         1.         0.90588235 0.69411765]\n",
      " [1.         1.         1.         1.         1.         0.67843137\n",
      "  0.94901961 1.         0.99215686 0.99607843 0.99215686 1.\n",
      "  0.99607843 1.         1.         1.         0.99607843 0.99607843\n",
      "  1.         0.99607843 0.57254902 1.         0.99607843 0.99607843\n",
      "  0.99215686 0.99607843 0.90588235 0.69019608]\n",
      " [1.         1.         1.         1.         1.         0.99607843\n",
      "  0.99607843 0.99607843 0.99607843 0.99215686 0.99607843 0.99215686\n",
      "  0.99607843 0.99607843 1.         0.99607843 1.         0.99607843\n",
      "  1.         1.         0.99215686 0.99607843 0.99607843 0.99607843\n",
      "  0.99607843 0.99607843 0.90980392 0.69411765]\n",
      " [1.         1.         1.         1.         1.         0.99607843\n",
      "  0.99607843 0.99607843 1.         0.99607843 0.99215686 1.\n",
      "  0.99215686 0.99607843 0.99607843 0.99607843 0.98823529 0.99607843\n",
      "  0.99607843 0.99607843 1.         0.98823529 0.99607843 0.99607843\n",
      "  1.         1.         0.93333333 0.26666667]\n",
      " [1.         1.         1.         1.         1.         0.99607843\n",
      "  0.99607843 0.99607843 1.         0.99607843 0.99607843 0.99215686\n",
      "  0.99607843 0.99607843 0.99607843 0.99607843 1.         0.99607843\n",
      "  0.99607843 0.99607843 0.99607843 0.99607843 0.99607843 0.99215686\n",
      "  1.         0.99607843 0.99607843 0.99607843]\n",
      " [1.         1.         1.         1.         1.         1.\n",
      "  1.         1.         1.         1.         1.         1.\n",
      "  1.         1.         1.         1.         1.         1.\n",
      "  1.         1.         1.         1.         1.         1.\n",
      "  1.         1.         1.         1.        ]\n",
      " [1.         1.         1.         1.         1.         1.\n",
      "  1.         1.         1.         1.         1.         1.\n",
      "  1.         1.         1.         1.         1.         1.\n",
      "  1.         1.         1.         1.         1.         1.\n",
      "  1.         1.         1.         1.        ]\n",
      " [1.         1.         1.         1.         1.         1.\n",
      "  1.         1.         1.         1.         1.         1.\n",
      "  1.         1.         1.         1.         1.         1.\n",
      "  1.         1.         1.         1.         1.         1.\n",
      "  1.         1.         1.         1.        ]]\n"
     ]
    }
   ],
   "source": [
    "X_val = np.array(X_train[:500] /255.0)\n",
    "Y_val = np.array(Y_train[:500]) \n",
    "\n",
    "X_train = np.array(X_train [500:] /255.0)\n",
    "Y_train = np.array(Y_train [500:])\n",
    "\n",
    "X_test = np.array(X_test /255.0)\n",
    "Y_test = np.array(Y_test)\n",
    "\n",
    "print(X_train[4])\n"
   ]
  },
  {
   "cell_type": "code",
   "execution_count": 28,
   "metadata": {},
   "outputs": [
    {
     "name": "stdout",
     "output_type": "stream",
     "text": [
      "(3250, 28, 28)\n",
      "(500, 28, 28)\n",
      "(1250, 28, 28)\n"
     ]
    }
   ],
   "source": [
    "# plt.imshow(data_train[0])\n",
    "\n",
    "print(np.shape(X_train))\n",
    "print(np.shape(X_val))\n",
    "print(np.shape(X_test))"
   ]
  },
  {
   "cell_type": "code",
   "execution_count": 29,
   "metadata": {},
   "outputs": [],
   "source": [
    "model = tf.keras.models.Sequential([tf.keras.layers.Flatten(input_shape=[28,28]),\n",
    "                                    tf.keras.layers.Dense(128, activation=tf.nn.relu),\n",
    "                                    tf.keras.layers.Dense(10, activation=tf.nn.softmax)])"
   ]
  },
  {
   "cell_type": "code",
   "execution_count": null,
   "metadata": {},
   "outputs": [],
   "source": [
    "#Visualize Network Model\n",
    "modelViz_file= 'model_1.png' # Model filename\n",
    "\n",
    "# Plot model\n",
    "keras.utils.plot_model(model, to_file=modelViz_file, show_shapes=True)"
   ]
  },
  {
   "cell_type": "code",
   "execution_count": 30,
   "metadata": {},
   "outputs": [
    {
     "name": "stdout",
     "output_type": "stream",
     "text": [
      "Epoch 1/10\n",
      "102/102 [==============================] - 1s 4ms/step - loss: 2.2614 - accuracy: 0.1985 - val_loss: 1.9611 - val_accuracy: 0.2740\n",
      "Epoch 2/10\n",
      "102/102 [==============================] - 0s 2ms/step - loss: 1.8212 - accuracy: 0.4394 - val_loss: 1.6472 - val_accuracy: 0.5160\n",
      "Epoch 3/10\n",
      "102/102 [==============================] - 0s 2ms/step - loss: 1.4957 - accuracy: 0.6018 - val_loss: 1.2924 - val_accuracy: 0.7280\n",
      "Epoch 4/10\n",
      "102/102 [==============================] - 0s 2ms/step - loss: 1.2351 - accuracy: 0.6738 - val_loss: 1.1751 - val_accuracy: 0.6760\n",
      "Epoch 5/10\n",
      "102/102 [==============================] - 0s 3ms/step - loss: 1.0504 - accuracy: 0.7326 - val_loss: 1.0999 - val_accuracy: 0.6880\n",
      "Epoch 6/10\n",
      "102/102 [==============================] - 0s 3ms/step - loss: 0.8884 - accuracy: 0.7975 - val_loss: 0.8464 - val_accuracy: 0.8100\n",
      "Epoch 7/10\n",
      "102/102 [==============================] - 0s 3ms/step - loss: 0.7993 - accuracy: 0.7982 - val_loss: 0.7399 - val_accuracy: 0.8440\n",
      "Epoch 8/10\n",
      "102/102 [==============================] - 0s 2ms/step - loss: 0.7137 - accuracy: 0.8228 - val_loss: 0.8000 - val_accuracy: 0.7660\n",
      "Epoch 9/10\n",
      "102/102 [==============================] - 0s 2ms/step - loss: 0.6764 - accuracy: 0.8271 - val_loss: 0.6488 - val_accuracy: 0.8480\n",
      "Epoch 10/10\n",
      "102/102 [==============================] - 0s 2ms/step - loss: 0.6351 - accuracy: 0.8228 - val_loss: 0.6649 - val_accuracy: 0.8280\n"
     ]
    }
   ],
   "source": [
    "model.compile(optimizer = tf.optimizers.Adam(),\n",
    "              loss = 'sparse_categorical_crossentropy',\n",
    "              metrics=['accuracy'])\n",
    "\n",
    "H=model.fit(X_train, Y_train, epochs=10,validation_data=(X_val, Y_val))"
   ]
  },
  {
   "cell_type": "code",
   "execution_count": 31,
   "metadata": {},
   "outputs": [
    {
     "name": "stdout",
     "output_type": "stream",
     "text": [
      "Epoch 1/10\n",
      "102/102 [==============================] - 1s 3ms/step - loss: 2.2510 - accuracy: 0.1729 - val_loss: 2.2151 - val_accuracy: 0.1500\n",
      "Epoch 2/10\n",
      "102/102 [==============================] - 0s 2ms/step - loss: 2.0477 - accuracy: 0.2929 - val_loss: 1.9430 - val_accuracy: 0.3240\n",
      "Epoch 3/10\n",
      "102/102 [==============================] - 0s 2ms/step - loss: 1.8805 - accuracy: 0.3985 - val_loss: 1.8472 - val_accuracy: 0.4060\n",
      "Epoch 4/10\n",
      "102/102 [==============================] - 0s 4ms/step - loss: 1.7195 - accuracy: 0.4822 - val_loss: 1.6747 - val_accuracy: 0.4940\n",
      "Epoch 5/10\n",
      "102/102 [==============================] - 0s 2ms/step - loss: 1.5362 - accuracy: 0.5465 - val_loss: 1.4743 - val_accuracy: 0.5860\n",
      "Epoch 6/10\n",
      "102/102 [==============================] - 0s 2ms/step - loss: 1.3962 - accuracy: 0.6178 - val_loss: 1.3163 - val_accuracy: 0.6800\n",
      "Epoch 7/10\n",
      "102/102 [==============================] - 0s 2ms/step - loss: 1.2692 - accuracy: 0.6545 - val_loss: 1.2321 - val_accuracy: 0.6440\n",
      "Epoch 8/10\n",
      "102/102 [==============================] - 0s 2ms/step - loss: 1.1848 - accuracy: 0.6732 - val_loss: 1.2722 - val_accuracy: 0.5580\n",
      "Epoch 9/10\n",
      "102/102 [==============================] - 0s 2ms/step - loss: 1.0948 - accuracy: 0.7034 - val_loss: 1.1282 - val_accuracy: 0.6380\n",
      "Epoch 10/10\n",
      "102/102 [==============================] - 0s 2ms/step - loss: 1.0116 - accuracy: 0.7415 - val_loss: 1.0261 - val_accuracy: 0.7560\n"
     ]
    }
   ],
   "source": [
    "model1 = tf.keras.models.Sequential([tf.keras.layers.Flatten(input_shape=[28,28]),\n",
    "                                    tf.keras.layers.Dense(128, activation=tf.nn.relu),\n",
    "                                    tf.keras.layers.Dense(10, activation=tf.nn.softmax)])\n",
    "\n",
    "model1.compile(optimizer = tf.optimizers.SGD(0.01),\n",
    "              loss = 'sparse_categorical_crossentropy',\n",
    "              metrics=['accuracy'])\n",
    "\n",
    "H=model1.fit(X_train, Y_train, epochs=10,validation_data=(X_val, Y_val))\n"
   ]
  },
  {
   "cell_type": "code",
   "execution_count": 32,
   "metadata": {},
   "outputs": [
    {
     "name": "stdout",
     "output_type": "stream",
     "text": [
      "Model: \"sequential_1\"\n",
      "_________________________________________________________________\n",
      " Layer (type)                Output Shape              Param #   \n",
      "=================================================================\n",
      " flatten_1 (Flatten)         (None, 784)               0         \n",
      "                                                                 \n",
      " dense_2 (Dense)             (None, 128)               100480    \n",
      "                                                                 \n",
      " dense_3 (Dense)             (None, 10)                1290      \n",
      "                                                                 \n",
      "=================================================================\n",
      "Total params: 101770 (397.54 KB)\n",
      "Trainable params: 101770 (397.54 KB)\n",
      "Non-trainable params: 0 (0.00 Byte)\n",
      "_________________________________________________________________\n"
     ]
    }
   ],
   "source": [
    "model.summary()"
   ]
  },
  {
   "cell_type": "code",
   "execution_count": 33,
   "metadata": {},
   "outputs": [
    {
     "data": {
      "image/png": "[encoded data removed]",
      "text/plain": [
       "<Figure size 800x500 with 1 Axes>"
      ]
     },
     "metadata": {},
     "output_type": "display_data"
    },
    {
     "data": {
      "image/png": "[encoded data removed]",
      "text/plain": [
       "<Figure size 640x480 with 1 Axes>"
      ]
     },
     "metadata": {},
     "output_type": "display_data"
    }
   ],
   "source": [
    "import pandas as pd\n",
    "import matplotlib.pyplot as plt\n",
    "pd.DataFrame(H.history).plot(figsize=(8, 5))\n",
    "plt.grid(True)\n",
    "plt.gca().set_ylim(0, 1) # set the vertical range to [0-1]\n",
    "plt.show()\n",
    "\n",
    "plt.plot(H.history['loss'])\n",
    "plt.ylabel('cost')\n",
    "plt.xlabel('Epochs')\n",
    "plt.title(\"Cost/Loss Curve\")\n",
    "plt.show()"
   ]
  },
  {
   "cell_type": "code",
   "execution_count": 34,
   "metadata": {},
   "outputs": [
    {
     "name": "stdout",
     "output_type": "stream",
     "text": [
      "40/40 [==============================] - 0s 1ms/step - loss: 0.6521 - accuracy: 0.8216\n"
     ]
    },
    {
     "data": {
      "text/plain": [
       "[0.6520848274230957, 0.8216000199317932]"
      ]
     },
     "execution_count": 34,
     "metadata": {},
     "output_type": "execute_result"
    }
   ],
   "source": [
    "model.evaluate(X_test, Y_test)"
   ]
  }
 ],
 "metadata": {
  "kernelspec": {
   "display_name": "Python 3",
   "language": "python",
   "name": "python3"
  },
  "language_info": {
   "codemirror_mode": {
    "name": "ipython",
    "version": 3
   },
   "file_extension": ".py",
   "mimetype": "text/x-python",
   "name": "python",
   "nbconvert_exporter": "python",
   "pygments_lexer": "ipython3",
   "version": "3.11.3"
  }
 },
 "nbformat": 4,
 "nbformat_minor": 2
}
