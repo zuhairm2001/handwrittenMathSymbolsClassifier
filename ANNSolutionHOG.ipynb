{
 "cells": [
  {
   "cell_type": "code",
   "execution_count": 1,
   "metadata": {},
   "outputs": [],
   "source": [
    "import tensorflow as tf\n",
    "import os\n",
    "import numpy as np\n",
    "import cv2\n",
    "from sklearn.model_selection import train_test_split\n",
    "\n",
    "import matplotlib.pyplot as plt\n",
    "from skimage import feature # This pacakge is used for LBP feature extraction\n",
    "from sklearn import metrics\n",
    "import seaborn as sns # This pacakge is used for better visualization of data (e.g confusion matrix)\n",
    "\n",
    "%load_ext tensorboard"
   ]
  },
  {
   "cell_type": "code",
   "execution_count": 2,
   "metadata": {},
   "outputs": [
    {
     "name": "stdout",
     "output_type": "stream",
     "text": [
      "2.13.1\n"
     ]
    }
   ],
   "source": [
    "from tensorflow import keras\n",
    "print(tf.__version__)\n"
   ]
  },
  {
   "cell_type": "code",
   "execution_count": 3,
   "metadata": {},
   "outputs": [],
   "source": [
    "import os\n",
    "from os.path import isfile, join\n",
    "import re\n",
    "\n",
    "\n",
    "mypath = 'dataset_42028assg1_13918471'\n",
    "categories = ['!', ')', '[', '+', '=', 'cos', 'div', 'sum', 'tan', 'times']\n",
    "dataset = []\n",
    "img_index_arr = []\n",
    "# files = [f for f in listdir(mypath) if isfile(join(mypath, f))]\n",
    "\n",
    "def load_data():\n",
    "    for category in categories:\n",
    "        path = os.path.join(mypath, category)\n",
    "        class_num = categories.index(category)\n",
    "        for img in os.listdir(path):\n",
    "            try:\n",
    "                img_array = cv2.imread(os.path.join(path, img),0)\n",
    "                new_array = cv2.resize(img_array, (28,28))\n",
    "                dataset.append(new_array)\n",
    "                img_index_arr.append(class_num)\n",
    "            except Exception as e:\n",
    "                print(e)\n"
   ]
  },
  {
   "cell_type": "code",
   "execution_count": 4,
   "metadata": {},
   "outputs": [],
   "source": [
    "load_data()"
   ]
  },
  {
   "cell_type": "code",
   "execution_count": 5,
   "metadata": {},
   "outputs": [
    {
     "name": "stdout",
     "output_type": "stream",
     "text": [
      "!\n",
      ")\n",
      "+\n",
      "sum\n"
     ]
    },
    {
     "data": {
      "image/png": "[encoded data removed]",
      "text/plain": [
       "<Figure size 640x480 with 1 Axes>"
      ]
     },
     "metadata": {},
     "output_type": "display_data"
    },
    {
     "data": {
      "image/png": "[encoded data removed]",
      "text/plain": [
       "<Figure size 640x480 with 1 Axes>"
      ]
     },
     "metadata": {},
     "output_type": "display_data"
    },
    {
     "data": {
      "image/png": "[encoded data removed]",
      "text/plain": [
       "<Figure size 640x480 with 1 Axes>"
      ]
     },
     "metadata": {},
     "output_type": "display_data"
    },
    {
     "data": {
      "image/png": "[encoded data removed]",
      "text/plain": [
       "<Figure size 640x480 with 1 Axes>"
      ]
     },
     "metadata": {},
     "output_type": "display_data"
    }
   ],
   "source": [
    "datasetArr = np.array(dataset)\n",
    "\n",
    "fig = plt.figure()\n",
    "ax1 = fig.add_subplot(2,2,1)\n",
    "ax1.axis('off')\n",
    "ax1.imshow(dataset[0])\n",
    "print(categories[img_index_arr[0]])\n",
    "\n",
    "fig = plt.figure()\n",
    "ax1 = fig.add_subplot(2,2,2)\n",
    "ax1.axis('off')\n",
    "ax1.imshow(dataset[500])\n",
    "print(categories[img_index_arr[500]])\n",
    "\n",
    "fig = plt.figure()\n",
    "ax1 = fig.add_subplot(2,2,3)\n",
    "ax1.axis('off')\n",
    "ax1.imshow(dataset[1500])\n",
    "print(categories[img_index_arr[1500]])\n",
    "\n",
    "fig = plt.figure()\n",
    "ax1 = fig.add_subplot(2,2,4)\n",
    "ax1.axis('off')\n",
    "ax1.imshow(dataset[3500])\n",
    "print(categories[img_index_arr[3500]])\n"
   ]
  },
  {
   "cell_type": "code",
   "execution_count": 103,
   "metadata": {},
   "outputs": [],
   "source": [
    "X_train, X_test, Y_train, Y_test = train_test_split(datasetArr, img_index_arr) \n"
   ]
  },
  {
   "cell_type": "code",
   "execution_count": 104,
   "metadata": {},
   "outputs": [
    {
     "name": "stdout",
     "output_type": "stream",
     "text": [
      "Extracting features from training dataset...\n",
      "(3750, 36)\n",
      "(3750,)\n"
     ]
    }
   ],
   "source": [
    "print(\"Extracting features from training dataset...\")\n",
    "data_train = []\n",
    "labels_train = []\n",
    "\n",
    "# loop over the training images\n",
    "for img_index in range(len(X_train)):\n",
    "  # load the image, and extract HOG features\n",
    "  image = (X_train[img_index])\n",
    "  #gray = cv2.cvtColor(image, cv2.COLOR_BGR2GRAY)\n",
    "  H = feature.hog(image, orientations=9, pixels_per_cell=(10, 10),\n",
    "                  cells_per_block=(2, 2), transform_sqrt=True, block_norm=\"L2-Hys\")\n",
    "\n",
    "  # update the data and labels\n",
    "  data_train.append(H)\n",
    "  labels_train.append(Y_train[img_index])\n",
    "\n",
    "print(np.shape(data_train))\n",
    "print(np.shape(labels_train))"
   ]
  },
  {
   "cell_type": "code",
   "execution_count": 97,
   "metadata": {},
   "outputs": [
    {
     "name": "stdout",
     "output_type": "stream",
     "text": [
      "Extracting features from training dataset...\n",
      "(1250, 36)\n",
      "(1250,)\n"
     ]
    }
   ],
   "source": [
    "print(\"Extracting features from training dataset...\")\n",
    "data_test = []\n",
    "labels_test = []\n",
    "\n",
    "# loop over the training images\n",
    "for img_index in range(len(X_test)):\n",
    "  # load the image, and extract HOG features\n",
    "  image = (X_test[img_index])\n",
    "  #gray = cv2.cvtColor(image, cv2.COLOR_BGR2GRAY)\n",
    "  H = feature.hog(image, orientations=9, pixels_per_cell=(10, 10),\n",
    "                  cells_per_block=(2, 2), transform_sqrt=True, block_norm=\"L2-Hys\")\n",
    "\n",
    "  # update the data and labels\n",
    "  data_test.append(H)\n",
    "  labels_test.append(Y_test[img_index])\n",
    "\n",
    "print(np.shape(data_test))\n",
    "print(np.shape(labels_test))"
   ]
  },
  {
   "cell_type": "code",
   "execution_count": 107,
   "metadata": {},
   "outputs": [],
   "source": [
    "X_train = data_train\n",
    "Y_train = labels_train\n",
    "X_test = data_test\n",
    "Y_test = labels_test"
   ]
  },
  {
   "cell_type": "code",
   "execution_count": 108,
   "metadata": {},
   "outputs": [],
   "source": [
    "X_val = np.array(X_train[:500])\n",
    "Y_val = np.array(Y_train[:500]) \n",
    "\n",
    "X_train = np.array(X_train [500:])\n",
    "Y_train = np.array(Y_train [500:])\n",
    "\n",
    "X_test = np.array(X_test)\n",
    "Y_test = np.array(Y_test)\n",
    "\n"
   ]
  },
  {
   "cell_type": "code",
   "execution_count": 110,
   "metadata": {},
   "outputs": [
    {
     "name": "stdout",
     "output_type": "stream",
     "text": [
      "(3250, 36)\n",
      "(3250,)\n",
      "(500, 36)\n",
      "(1250, 36)\n"
     ]
    }
   ],
   "source": [
    "# plt.imshow(data_train[0])\n",
    "\n",
    "print(np.shape(X_train))\n",
    "print(np.shape(Y_train))\n",
    "print(np.shape(X_val))\n",
    "print(np.shape(X_test))"
   ]
  },
  {
   "cell_type": "code",
   "execution_count": 111,
   "metadata": {},
   "outputs": [],
   "source": [
    "model = tf.keras.models.Sequential([tf.keras.layers.Flatten(input_shape=[36]),\n",
    "                                    tf.keras.layers.Dense(128, activation=tf.nn.relu),\n",
    "                                    tf.keras.layers.Dense(10, activation=tf.nn.softmax)])"
   ]
  },
  {
   "cell_type": "code",
   "execution_count": null,
   "metadata": {},
   "outputs": [],
   "source": [
    "#Visualize Network Model\n",
    "modelViz_file= 'model_1.png' # Model filename\n",
    "\n",
    "# Plot model\n",
    "keras.utils.plot_model(model, to_file=modelViz_file, show_shapes=True)"
   ]
  },
  {
   "cell_type": "code",
   "execution_count": 112,
   "metadata": {},
   "outputs": [
    {
     "name": "stdout",
     "output_type": "stream",
     "text": [
      "Epoch 1/10\n",
      "102/102 [==============================] - 1s 3ms/step - loss: 1.9684 - accuracy: 0.5283 - val_loss: 1.5663 - val_accuracy: 0.7120\n",
      "Epoch 2/10\n",
      "102/102 [==============================] - 0s 1ms/step - loss: 1.1932 - accuracy: 0.7606 - val_loss: 0.9527 - val_accuracy: 0.8000\n",
      "Epoch 3/10\n",
      "102/102 [==============================] - 0s 1ms/step - loss: 0.7983 - accuracy: 0.8025 - val_loss: 0.7226 - val_accuracy: 0.8220\n",
      "Epoch 4/10\n",
      "102/102 [==============================] - 0s 1ms/step - loss: 0.6425 - accuracy: 0.8237 - val_loss: 0.6132 - val_accuracy: 0.8420\n",
      "Epoch 5/10\n",
      "102/102 [==============================] - 0s 1ms/step - loss: 0.5605 - accuracy: 0.8498 - val_loss: 0.5513 - val_accuracy: 0.8420\n",
      "Epoch 6/10\n",
      "102/102 [==============================] - 0s 1ms/step - loss: 0.5092 - accuracy: 0.8566 - val_loss: 0.5116 - val_accuracy: 0.8500\n",
      "Epoch 7/10\n",
      "102/102 [==============================] - 0s 1ms/step - loss: 0.4726 - accuracy: 0.8588 - val_loss: 0.4738 - val_accuracy: 0.8500\n",
      "Epoch 8/10\n",
      "102/102 [==============================] - 0s 1ms/step - loss: 0.4442 - accuracy: 0.8695 - val_loss: 0.4502 - val_accuracy: 0.8500\n",
      "Epoch 9/10\n",
      "102/102 [==============================] - 0s 1ms/step - loss: 0.4244 - accuracy: 0.8732 - val_loss: 0.4262 - val_accuracy: 0.8640\n",
      "Epoch 10/10\n",
      "102/102 [==============================] - 0s 2ms/step - loss: 0.4053 - accuracy: 0.8775 - val_loss: 0.4070 - val_accuracy: 0.8620\n"
     ]
    }
   ],
   "source": [
    "model.compile(optimizer = tf.optimizers.Adam(),\n",
    "              loss = 'sparse_categorical_crossentropy',\n",
    "              metrics=['accuracy'])\n",
    "\n",
    "H=model.fit(X_train, Y_train, epochs=10,validation_data=(X_val, Y_val))"
   ]
  },
  {
   "cell_type": "code",
   "execution_count": 113,
   "metadata": {},
   "outputs": [],
   "source": [
    "# model1 = tf.keras.models.Sequential([tf.keras.layers.Flatten(input_shape=[36]),\n",
    "#                                     tf.keras.layers.Dense(128, activation=tf.nn.relu),\n",
    "#                                     tf.keras.layers.Dense(10, activation=tf.nn.softmax)])\n",
    "\n",
    "# model1.compile(optimizer = tf.optimizers.SGD(0.01),\n",
    "#               loss = 'sparse_categorical_crossentropy',\n",
    "#               metrics=['accuracy'])\n",
    "\n",
    "# H=model1.fit(X_train, Y_train, epochs=10,validation_data=(X_val, Y_val))\n"
   ]
  },
  {
   "cell_type": "code",
   "execution_count": 114,
   "metadata": {},
   "outputs": [
    {
     "name": "stdout",
     "output_type": "stream",
     "text": [
      "Model: \"sequential_8\"\n",
      "_________________________________________________________________\n",
      " Layer (type)                Output Shape              Param #   \n",
      "=================================================================\n",
      " flatten_8 (Flatten)         (None, 36)                0         \n",
      "                                                                 \n",
      " dense_16 (Dense)            (None, 128)               4736      \n",
      "                                                                 \n",
      " dense_17 (Dense)            (None, 10)                1290      \n",
      "                                                                 \n",
      "=================================================================\n",
      "Total params: 6026 (23.54 KB)\n",
      "Trainable params: 6026 (23.54 KB)\n",
      "Non-trainable params: 0 (0.00 Byte)\n",
      "_________________________________________________________________\n"
     ]
    }
   ],
   "source": [
    "model.summary()"
   ]
  },
  {
   "cell_type": "code",
   "execution_count": 115,
   "metadata": {},
   "outputs": [
    {
     "data": {
      "image/png": "[encoded data removed]",
      "text/plain": [
       "<Figure size 800x500 with 1 Axes>"
      ]
     },
     "metadata": {},
     "output_type": "display_data"
    },
    {
     "data": {
      "image/png": "[encoded data removed]",
      "text/plain": [
       "<Figure size 640x480 with 1 Axes>"
      ]
     },
     "metadata": {},
     "output_type": "display_data"
    }
   ],
   "source": [
    "import pandas as pd\n",
    "import matplotlib.pyplot as plt\n",
    "pd.DataFrame(H.history).plot(figsize=(8, 5))\n",
    "plt.grid(True)\n",
    "plt.gca().set_ylim(0, 1) # set the vertical range to [0-1]\n",
    "plt.show()\n",
    "\n",
    "plt.plot(H.history['loss'])\n",
    "plt.ylabel('cost')\n",
    "plt.xlabel('Epochs')\n",
    "plt.title(\"Cost/Loss Curve\")\n",
    "plt.show()"
   ]
  },
  {
   "cell_type": "code",
   "execution_count": 116,
   "metadata": {},
   "outputs": [
    {
     "name": "stdout",
     "output_type": "stream",
     "text": [
      "40/40 [==============================] - 0s 846us/step - loss: 0.3979 - accuracy: 0.8896\n"
     ]
    },
    {
     "data": {
      "text/plain": [
       "[0.3978774845600128, 0.8895999789237976]"
      ]
     },
     "execution_count": 116,
     "metadata": {},
     "output_type": "execute_result"
    }
   ],
   "source": [
    "model.evaluate(X_test, Y_test)"
   ]
  }
 ],
 "metadata": {
  "kernelspec": {
   "display_name": "Python 3",
   "language": "python",
   "name": "python3"
  },
  "language_info": {
   "codemirror_mode": {
    "name": "ipython",
    "version": 3
   },
   "file_extension": ".py",
   "mimetype": "text/x-python",
   "name": "python",
   "nbconvert_exporter": "python",
   "pygments_lexer": "ipython3",
   "version": "3.11.3"
  }
 },
 "nbformat": 4,
 "nbformat_minor": 2
}
